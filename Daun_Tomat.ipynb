{
  "cells": [
    {
      "cell_type": "code",
      "execution_count": null,
      "metadata": {
        "colab": {
          "background_save": true,
          "base_uri": "https://localhost:8080/",
          "height": 38
        },
        "id": "w2yQ9dDPO_3s",
        "outputId": "fca44873-56cb-44b1-a54e-ea87f85ba5d1"
      },
      "outputs": [
        {
          "data": {
            "text/html": [
              "\n",
              "     <input type=\"file\" id=\"files-2357a128-c2cc-4267-8d0e-daedd2fa8f49\" name=\"files[]\" multiple disabled\n",
              "        style=\"border:none\" />\n",
              "     <output id=\"result-2357a128-c2cc-4267-8d0e-daedd2fa8f49\">\n",
              "      Upload widget is only available when the cell has been executed in the\n",
              "      current browser session. Please rerun this cell to enable.\n",
              "      </output>\n",
              "      <script>// Copyright 2017 Google LLC\n",
              "//\n",
              "// Licensed under the Apache License, Version 2.0 (the \"License\");\n",
              "// you may not use this file except in compliance with the License.\n",
              "// You may obtain a copy of the License at\n",
              "//\n",
              "//      http://www.apache.org/licenses/LICENSE-2.0\n",
              "//\n",
              "// Unless required by applicable law or agreed to in writing, software\n",
              "// distributed under the License is distributed on an \"AS IS\" BASIS,\n",
              "// WITHOUT WARRANTIES OR CONDITIONS OF ANY KIND, either express or implied.\n",
              "// See the License for the specific language governing permissions and\n",
              "// limitations under the License.\n",
              "\n",
              "/**\n",
              " * @fileoverview Helpers for google.colab Python module.\n",
              " */\n",
              "(function(scope) {\n",
              "function span(text, styleAttributes = {}) {\n",
              "  const element = document.createElement('span');\n",
              "  element.textContent = text;\n",
              "  for (const key of Object.keys(styleAttributes)) {\n",
              "    element.style[key] = styleAttributes[key];\n",
              "  }\n",
              "  return element;\n",
              "}\n",
              "\n",
              "// Max number of bytes which will be uploaded at a time.\n",
              "const MAX_PAYLOAD_SIZE = 100 * 1024;\n",
              "\n",
              "function _uploadFiles(inputId, outputId) {\n",
              "  const steps = uploadFilesStep(inputId, outputId);\n",
              "  const outputElement = document.getElementById(outputId);\n",
              "  // Cache steps on the outputElement to make it available for the next call\n",
              "  // to uploadFilesContinue from Python.\n",
              "  outputElement.steps = steps;\n",
              "\n",
              "  return _uploadFilesContinue(outputId);\n",
              "}\n",
              "\n",
              "// This is roughly an async generator (not supported in the browser yet),\n",
              "// where there are multiple asynchronous steps and the Python side is going\n",
              "// to poll for completion of each step.\n",
              "// This uses a Promise to block the python side on completion of each step,\n",
              "// then passes the result of the previous step as the input to the next step.\n",
              "function _uploadFilesContinue(outputId) {\n",
              "  const outputElement = document.getElementById(outputId);\n",
              "  const steps = outputElement.steps;\n",
              "\n",
              "  const next = steps.next(outputElement.lastPromiseValue);\n",
              "  return Promise.resolve(next.value.promise).then((value) => {\n",
              "    // Cache the last promise value to make it available to the next\n",
              "    // step of the generator.\n",
              "    outputElement.lastPromiseValue = value;\n",
              "    return next.value.response;\n",
              "  });\n",
              "}\n",
              "\n",
              "/**\n",
              " * Generator function which is called between each async step of the upload\n",
              " * process.\n",
              " * @param {string} inputId Element ID of the input file picker element.\n",
              " * @param {string} outputId Element ID of the output display.\n",
              " * @return {!Iterable<!Object>} Iterable of next steps.\n",
              " */\n",
              "function* uploadFilesStep(inputId, outputId) {\n",
              "  const inputElement = document.getElementById(inputId);\n",
              "  inputElement.disabled = false;\n",
              "\n",
              "  const outputElement = document.getElementById(outputId);\n",
              "  outputElement.innerHTML = '';\n",
              "\n",
              "  const pickedPromise = new Promise((resolve) => {\n",
              "    inputElement.addEventListener('change', (e) => {\n",
              "      resolve(e.target.files);\n",
              "    });\n",
              "  });\n",
              "\n",
              "  const cancel = document.createElement('button');\n",
              "  inputElement.parentElement.appendChild(cancel);\n",
              "  cancel.textContent = 'Cancel upload';\n",
              "  const cancelPromise = new Promise((resolve) => {\n",
              "    cancel.onclick = () => {\n",
              "      resolve(null);\n",
              "    };\n",
              "  });\n",
              "\n",
              "  // Wait for the user to pick the files.\n",
              "  const files = yield {\n",
              "    promise: Promise.race([pickedPromise, cancelPromise]),\n",
              "    response: {\n",
              "      action: 'starting',\n",
              "    }\n",
              "  };\n",
              "\n",
              "  cancel.remove();\n",
              "\n",
              "  // Disable the input element since further picks are not allowed.\n",
              "  inputElement.disabled = true;\n",
              "\n",
              "  if (!files) {\n",
              "    return {\n",
              "      response: {\n",
              "        action: 'complete',\n",
              "      }\n",
              "    };\n",
              "  }\n",
              "\n",
              "  for (const file of files) {\n",
              "    const li = document.createElement('li');\n",
              "    li.append(span(file.name, {fontWeight: 'bold'}));\n",
              "    li.append(span(\n",
              "        `(${file.type || 'n/a'}) - ${file.size} bytes, ` +\n",
              "        `last modified: ${\n",
              "            file.lastModifiedDate ? file.lastModifiedDate.toLocaleDateString() :\n",
              "                                    'n/a'} - `));\n",
              "    const percent = span('0% done');\n",
              "    li.appendChild(percent);\n",
              "\n",
              "    outputElement.appendChild(li);\n",
              "\n",
              "    const fileDataPromise = new Promise((resolve) => {\n",
              "      const reader = new FileReader();\n",
              "      reader.onload = (e) => {\n",
              "        resolve(e.target.result);\n",
              "      };\n",
              "      reader.readAsArrayBuffer(file);\n",
              "    });\n",
              "    // Wait for the data to be ready.\n",
              "    let fileData = yield {\n",
              "      promise: fileDataPromise,\n",
              "      response: {\n",
              "        action: 'continue',\n",
              "      }\n",
              "    };\n",
              "\n",
              "    // Use a chunked sending to avoid message size limits. See b/62115660.\n",
              "    let position = 0;\n",
              "    do {\n",
              "      const length = Math.min(fileData.byteLength - position, MAX_PAYLOAD_SIZE);\n",
              "      const chunk = new Uint8Array(fileData, position, length);\n",
              "      position += length;\n",
              "\n",
              "      const base64 = btoa(String.fromCharCode.apply(null, chunk));\n",
              "      yield {\n",
              "        response: {\n",
              "          action: 'append',\n",
              "          file: file.name,\n",
              "          data: base64,\n",
              "        },\n",
              "      };\n",
              "\n",
              "      let percentDone = fileData.byteLength === 0 ?\n",
              "          100 :\n",
              "          Math.round((position / fileData.byteLength) * 100);\n",
              "      percent.textContent = `${percentDone}% done`;\n",
              "\n",
              "    } while (position < fileData.byteLength);\n",
              "  }\n",
              "\n",
              "  // All done.\n",
              "  yield {\n",
              "    response: {\n",
              "      action: 'complete',\n",
              "    }\n",
              "  };\n",
              "}\n",
              "\n",
              "scope.google = scope.google || {};\n",
              "scope.google.colab = scope.google.colab || {};\n",
              "scope.google.colab._files = {\n",
              "  _uploadFiles,\n",
              "  _uploadFilesContinue,\n",
              "};\n",
              "})(self);\n",
              "</script> "
            ],
            "text/plain": [
              "<IPython.core.display.HTML object>"
            ]
          },
          "metadata": {},
          "output_type": "display_data"
        }
      ],
      "source": [
        "from google.colab import files\n",
        "files.upload()  # Pilih file `kaggle.json` dari komputer Anda"
      ]
    },
    {
      "cell_type": "code",
      "execution_count": null,
      "metadata": {
        "colab": {
          "background_save": true
        },
        "id": "F-EdyU1I_SF7"
      },
      "outputs": [],
      "source": [
        "from google.colab import drive\n",
        "drive.mount('/content/drive')"
      ]
    },
    {
      "cell_type": "code",
      "execution_count": null,
      "metadata": {
        "colab": {
          "background_save": true
        },
        "id": "TuOR-z_GPLSm"
      },
      "outputs": [],
      "source": [
        "import os\n",
        "\n",
        "# Buat folder .kaggle jika belum ada\n",
        "os.makedirs('/root/.kaggle', exist_ok=True)\n",
        "\n",
        "# Pindahkan file ke /root/.kaggle/\n",
        "!mv kaggle.json /root/.kaggle/\n",
        "\n",
        "# Berikan izin akses yang benar\n",
        "!chmod 600 /root/.kaggle/kaggle.json"
      ]
    },
    {
      "cell_type": "code",
      "execution_count": null,
      "metadata": {
        "colab": {
          "background_save": true
        },
        "id": "dfC0JNaNPOBq"
      },
      "outputs": [],
      "source": [
        "from kaggle.api.kaggle_api_extended import KaggleApi\n",
        "\n",
        "api = KaggleApi()\n",
        "api.authenticate()\n",
        "\n",
        "# Unduh dataset dan simpan di direktori 'dataset/'\n",
        "api.dataset_download_files('kaustubhb999/tomatoleaf', path='dataset/', unzip=True)"
      ]
    },
    {
      "cell_type": "code",
      "execution_count": null,
      "metadata": {
        "colab": {
          "background_save": true
        },
        "id": "-QmUAjlQPlTu"
      },
      "outputs": [],
      "source": [
        "import os\n",
        "os.listdir('dataset/')"
      ]
    },
    {
      "cell_type": "code",
      "execution_count": null,
      "metadata": {
        "colab": {
          "background_save": true
        },
        "id": "IRgbgkKaXcBt"
      },
      "outputs": [],
      "source": [
        "!kaggle datasets list"
      ]
    },
    {
      "cell_type": "code",
      "execution_count": null,
      "metadata": {
        "colab": {
          "background_save": true
        },
        "id": "2RbCJur8aTom"
      },
      "outputs": [],
      "source": [
        "import os\n",
        "\n",
        "# Menampilkan struktur folder di dalam /content/dataset\n",
        "for root, dirs, files in os.walk(\"/content/dataset\"):\n",
        "    print(\"Folder:\", root)\n",
        "    print(\"Sub-folder:\", dirs)\n",
        "    print(\"File:\", files)\n",
        "    print(\"-\" * 50)\n"
      ]
    },
    {
      "cell_type": "code",
      "execution_count": null,
      "metadata": {
        "colab": {
          "background_save": true
        },
        "id": "Zebxjbu7PqOa"
      },
      "outputs": [],
      "source": [
        "#Import library awal yang diperlukan\n",
        "import pandas as pd\n",
        "import numpy as np\n",
        "import matplotlib.pyplot as plt\n",
        "import skimage.io\n",
        "import tensorflow as tf\n",
        "import cv2\n",
        "import tqdm\n",
        "import glob\n",
        "%matplotlib inline"
      ]
    },
    {
      "cell_type": "code",
      "execution_count": null,
      "metadata": {
        "colab": {
          "background_save": true
        },
        "id": "GZyCUR03PxsM"
      },
      "outputs": [],
      "source": [
        "#Mengecek apakah ada gambar yang rusak pada folder Validation\n",
        "from PIL import Image\n",
        "from pathlib import Path\n",
        "\n",
        "for file_path in Path('/content/dataset/tomato/val').glob('**/*.jpg'):\n",
        "    print('Check: %s' % file_path)\n",
        "\n",
        "    im = Image.open(file_path)\n",
        "    im.verify()\n",
        "\n",
        "    print('Done.')"
      ]
    },
    {
      "cell_type": "code",
      "execution_count": null,
      "metadata": {
        "colab": {
          "background_save": true
        },
        "id": "tVByZ9AI_MdC"
      },
      "outputs": [],
      "source": [
        "#Menampilkan Contoh Gambar dari Dataset\n",
        "plt.figure(figsize=(12,8))\n",
        "\n",
        "a=0\n",
        "temp = []\n",
        "for i in os.listdir('/content/dataset/tomato/train'): #Akses subdirektori di dalam folder train\n",
        "  path =  os.path.join('/content/dataset/tomato/train',i)\n",
        "  for j in os.listdir(path): #Membaca file di dalam setiap subdirektori\n",
        "    path2 = os.path.join(path,j)\n",
        "    a+=1\n",
        "    plt.subplot(2,5,a)\n",
        "    plt.imshow(cv2.imread(path2))\n",
        "    plt.title(i, fontsize=7)\n",
        "    plt.axis('off')\n",
        "\n",
        "    break\n",
        "\n",
        "print(a)"
      ]
    },
    {
      "cell_type": "code",
      "execution_count": null,
      "metadata": {
        "colab": {
          "background_save": true
        },
        "id": "HLwrKWKsQHOP"
      },
      "outputs": [],
      "source": [
        "#Mengabaikan data yang rusak\n",
        "from PIL import ImageFile\n",
        "ImageFile.LOAD_TRUNCATED_IMAGES = True"
      ]
    },
    {
      "cell_type": "code",
      "execution_count": null,
      "metadata": {
        "id": "CGZEz33FQKS7"
      },
      "outputs": [],
      "source": [
        "from tensorflow.keras.preprocessing.image import ImageDataGenerator\n",
        "#Mendefenisikan fungsi fungsi pada augmentasi data, fungsi yang digunakan adalah melakukan normalisasi gambar\n",
        "train_datagen = ImageDataGenerator(rescale = 1.0 / 255.0)\n",
        "\n",
        "valid_datagen = ImageDataGenerator(rescale = 1.0 / 255.0)"
      ]
    },
    {
      "cell_type": "code",
      "execution_count": null,
      "metadata": {
        "colab": {
          "background_save": true
        },
        "id": "RWqj47FiQNYZ"
      },
      "outputs": [],
      "source": [
        "#Mendefenisikan data train dan kemudian melakukan augmentasi\n",
        "train_dataset  = train_datagen.flow_from_directory(directory = '/content/dataset/tomato/train',#Direktori data train\n",
        "                                                   target_size = (224,224),#Dimensi gambar (Panjang x Lebar)\n",
        "                                                   class_mode = 'categorical',#Mendefinisikan mode kelas (Categorical berarti kelas akan dibentuk kedalam one-hot-encoding)\n",
        "                                                   batch_size = 32)#Mendefinisikan batch size"
      ]
    },
    {
      "cell_type": "code",
      "execution_count": null,
      "metadata": {
        "colab": {
          "background_save": true
        },
        "id": "hyOhVNUfbQrX"
      },
      "outputs": [],
      "source": [
        "#Mendefenisikan data validation dan kemudian melakukan augmentasi\n",
        "val_dataset  = valid_datagen.flow_from_directory(directory = '/content/dataset/tomato/val',#Direktori data validation\n",
        "                                                   target_size = (224,224),\n",
        "                                                   class_mode = 'categorical',\n",
        "                                                   shuffle = False,\n",
        "                                                   batch_size = 32)"
      ]
    },
    {
      "cell_type": "code",
      "execution_count": null,
      "metadata": {
        "colab": {
          "background_save": true
        },
        "id": "SoUnlVSBbbxe"
      },
      "outputs": [],
      "source": [
        "#Menghitung jumlah seluruh dataset\n",
        "total = train_dataset.samples + val_dataset.samples\n",
        "total"
      ]
    },
    {
      "cell_type": "code",
      "execution_count": null,
      "metadata": {
        "colab": {
          "background_save": true
        },
        "id": "F4Sv_x5GbfVA"
      },
      "outputs": [],
      "source": [
        "#Melihat label apa saja yang digunakan\n",
        "train_dataset.class_indices"
      ]
    },
    {
      "cell_type": "code",
      "execution_count": null,
      "metadata": {
        "colab": {
          "background_save": true
        },
        "id": "t4gWWluybiEO"
      },
      "outputs": [],
      "source": [
        "#Plot gambar dari folder train secara acak\n",
        "import matplotlib.pyplot as plt\n",
        "\n",
        "fig, ax = plt.subplots(nrows=2, ncols=4, figsize=(10, 5))#Mendefinisikan ukuran gambar\n",
        "\n",
        "for i in range(2):\n",
        "    for j in range(4):\n",
        "        rand1 = np.random.randint(len(train_dataset))\n",
        "        rand2 = np.random.randint(10)\n",
        "        ax[i, j].imshow(train_dataset[rand1][0][rand2])\n",
        "        ax[i, j].axis('off')\n",
        "        label = train_dataset[rand1][1][rand2]\n",
        "        class_label = np.argmax(label)  # Mendapatkan nilai maximum pada label\n",
        "        if class_label == 0:\n",
        "            ax[i, j].set_title('Bacterial Spot')\n",
        "        elif class_label == 1:\n",
        "            ax[i, j].set_title('Leaf Mold')\n",
        "        elif class_label == 2:\n",
        "            ax[i, j].set_title('Tomato Mosaic Virus')\n",
        "        else:\n",
        "            ax[i, j].set_title('Healthy')\n",
        "\n",
        "plt.tight_layout()\n",
        "plt.show()"
      ]
    },
    {
      "cell_type": "code",
      "execution_count": null,
      "metadata": {
        "colab": {
          "background_save": true
        },
        "id": "SiBjXRvIbs1M"
      },
      "outputs": [],
      "source": [
        "#Mengambil model pretrained MobileNetV2 dari tensorflow keras\n",
        "from tensorflow.keras.applications import MobileNetV2\n",
        "\n",
        "\n",
        "pretrained_model = tf.keras.applications.MobileNetV2(input_shape=[224, 224, 3],\n",
        "                                                     include_top=False,\n",
        "                                                     weights=\"imagenet\")\n",
        "\n",
        "pretrained_model.trainable = False"
      ]
    },
    {
      "cell_type": "code",
      "execution_count": null,
      "metadata": {
        "colab": {
          "background_save": true
        },
        "id": "3_xTTFK1byi8"
      },
      "outputs": [],
      "source": [
        "from tensorflow.keras.applications import MobileNetV2\n",
        "from tensorflow.keras.models import Sequential\n",
        "from tensorflow.keras.layers import Dense, Flatten, BatchNormalization, Dropout, Activation, InputLayer\n",
        "from tensorflow.keras.models import Model\n",
        "\n",
        "\n",
        "x = pretrained_model.output\n",
        "\n",
        "#Menambahkan layer di atas base model\n",
        "x = Flatten()(x)\n",
        "x = BatchNormalization()(x)\n",
        "x = Dense(16, kernel_initializer='he_uniform')(x)\n",
        "x = BatchNormalization()(x)\n",
        "x = Activation('relu')(x)\n",
        "x = Dropout(0.2)(x)\n",
        "output_tensor = Dense(10, activation='softmax')(x)\n",
        "\n",
        "#Membuat model fungsional\n",
        "model = Model(inputs=pretrained_model.input, outputs=output_tensor)\n",
        "\n",
        "model.summary()\n"
      ]
    },
    {
      "cell_type": "code",
      "execution_count": null,
      "metadata": {
        "colab": {
          "background_save": true
        },
        "id": "gKa31Powcigy"
      },
      "outputs": [],
      "source": [
        "#Mendefenisikan fungsi untuk optimiser yaitu dengan metode adam, optimizer berguna untuk mengatur tingkat kecepatan pelatihan\n",
        "OPT = tf.keras.optimizers.Adam()\n",
        "\n",
        "model.compile(loss='categorical_crossentropy',#Mendefenisikan fungsi loss\n",
        "              metrics=['accuracy'],#Mendefenisikan fungsi metrics\n",
        "              optimizer=OPT)"
      ]
    },
    {
      "cell_type": "code",
      "execution_count": null,
      "metadata": {
        "colab": {
          "background_save": true
        },
        "id": "6hwEXKeidZtO"
      },
      "outputs": [],
      "source": [
        "from tensorflow.keras.callbacks import ModelCheckpoint, EarlyStopping\n",
        "from tensorflow.keras.callbacks import LearningRateScheduler\n",
        "from google.colab import drive\n",
        "\n",
        "#Hubungkan ke Google Drive\n",
        "drive.mount('/content/drive')\n",
        "\n",
        "#Tentukan path untuk menyimpan model terbaik\n",
        "filepath = '/content/drive/MyDrive/daun_tomat.keras'\n",
        "\n",
        "#Membuat fungsi checkpoint\n",
        "checkpoint    = ModelCheckpoint(filepath,\n",
        "                                monitor = 'val_accuracy',#Berfungsi untuk memonitoring akurasi data validation\n",
        "                                mode='max',#Mengambil nilai maximum dari hasil yang diperoleh\n",
        "                                save_best_only=True,#Hanya akan menyimpan model yang terbaik\n",
        "                                verbose = 1)\n",
        "#Membuat fungsi earlystopping\n",
        "earlystopping = EarlyStopping(monitor = 'val_accuracy',\n",
        "                              mode = 'max' ,\n",
        "                              patience = 5, #Berfungsi untuk membuat model berhenti apabila tidak ada improvement selama 5 epoch\n",
        "                              verbose = 1)\n",
        "\n",
        "#Membuat fungsi learning rate, learning rate akan membesar per sepuluh epoch\n",
        "def lr_schedule(epoch):\n",
        "    lr = 1e-6\n",
        "    if epoch > 10:\n",
        "        lr = 1e-5\n",
        "    if epoch > 20:\n",
        "        lr = 1e-4\n",
        "    return lr\n",
        "\n",
        "#Memanggil fungsi learning rate scheduler\n",
        "lr_scheduler = LearningRateScheduler(lr_schedule)\n",
        "\n",
        "#Menggabungkan fungsi checkpoint dan learning rate agar dapat digunakan pada pelatihan\n",
        "callback_list = [checkpoint, lr_scheduler, earlystopping]\n"
      ]
    },
    {
      "cell_type": "code",
      "execution_count": null,
      "metadata": {
        "colab": {
          "background_save": true
        },
        "id": "LhKWpX6LuNa8"
      },
      "outputs": [],
      "source": [
        "#Melakukan pelatihan model\n",
        "model_history10=model.fit(train_dataset,\n",
        "                        validation_data=val_dataset,\n",
        "                        epochs = 50,\n",
        "                        callbacks=callback_list,\n",
        "                        verbose = 1)"
      ]
    },
    {
      "cell_type": "code",
      "execution_count": null,
      "metadata": {
        "colab": {
          "background_save": true
        },
        "id": "olLTIpmTulSA"
      },
      "outputs": [],
      "source": [
        "#Plot model loss\n",
        "plt.plot(model_history10.history['loss'])\n",
        "plt.plot(model_history10.history['val_loss'])\n",
        "plt.title('Model Loss in 50 epochs')\n",
        "plt.ylabel('Loss')\n",
        "plt.xlabel('Epoch')\n",
        "plt.legend(['Train', 'Validation'], loc='upper left', bbox_to_anchor=(1,1))\n",
        "plt.show()"
      ]
    },
    {
      "cell_type": "code",
      "execution_count": null,
      "metadata": {
        "colab": {
          "background_save": true
        },
        "id": "nxCpgqG6unYI"
      },
      "outputs": [],
      "source": [
        "#Plot model akurasi\n",
        "plt.plot(model_history10.history['accuracy'])\n",
        "plt.plot(model_history10.history['val_accuracy'])\n",
        "plt.title('Model Accuracy in 10 epochs')\n",
        "plt.ylabel('Accuracy')\n",
        "plt.xlabel('Epoch')\n",
        "plt.legend(['Train', 'Validation'], loc='upper left', bbox_to_anchor=(1,1))\n",
        "plt.show()"
      ]
    },
    {
      "cell_type": "code",
      "execution_count": null,
      "metadata": {
        "colab": {
          "background_save": true
        },
        "id": "XHW9T9kiusSI"
      },
      "outputs": [],
      "source": [
        "#Melihat akurasi,presisi, dan recall model menggunakan data validasi\n",
        "from sklearn.metrics import classification_report\n",
        "\n",
        "predictions = model.predict(val_dataset)\n",
        "true_labels = val_dataset.classes\n",
        "class_indices = val_dataset.class_indices\n",
        "class_labels = {v: k for k, v in class_indices.items()}\n",
        "\n",
        "predicted_labels = np.argmax(predictions, axis=1)\n",
        "report = classification_report(true_labels, predicted_labels, target_names=list(class_labels.values()))\n",
        "print(\"Classification Report:\\n\", report)"
      ]
    },
    {
      "cell_type": "code",
      "execution_count": null,
      "metadata": {
        "colab": {
          "background_save": true
        },
        "id": "zgoGJZyJuvHP"
      },
      "outputs": [],
      "source": [
        "#Accuracy dan Error Rate\n",
        "loss, accuracy = model.evaluate(val_dataset)\n",
        "error_rate = 1 - accuracy\n",
        "\n",
        "print(f'Accuracy: {accuracy}')\n",
        "print(f'Error Rate: {error_rate}')"
      ]
    },
    {
      "cell_type": "code",
      "execution_count": null,
      "metadata": {
        "colab": {
          "background_save": true
        },
        "id": "pXhikFPDuxdq"
      },
      "outputs": [],
      "source": [
        "#Matriks konfusi model dari data validasi\n",
        "from sklearn.metrics import confusion_matrix\n",
        "import seaborn as sns\n",
        "# Membuat matriks konfusi\n",
        "cm = confusion_matrix(true_labels, predicted_labels)\n",
        "\n",
        "# Plot confusion matrix\n",
        "plt.figure(figsize=(8, 6))\n",
        "sns.heatmap(cm, annot=True, fmt=\"d\", cmap=\"Blues\", xticklabels=class_labels.values(), yticklabels=class_labels.values())\n",
        "plt.title('Confusion Matrix')\n",
        "plt.xlabel('Prediksi')\n",
        "plt.ylabel('Aktual')\n",
        "plt.show()"
      ]
    },
    {
      "cell_type": "code",
      "execution_count": null,
      "metadata": {
        "colab": {
          "base_uri": "https://localhost:8080/",
          "height": 67,
          "referenced_widgets": [
            "b50f9c531733496c930f8fc483fc1117",
            "e59fd72625e643e4ab1707a2e1e7e8ae",
            "072199657ddb461d994f8ebeba6f5ae2"
          ]
        },
        "id": "B36o4yIgu2ul",
        "outputId": "e89f0aed-f9dc-4c57-faa8-22df9d0683ac"
      },
      "outputs": [
        {
          "name": "stdout",
          "output_type": "stream",
          "text": [
            "Drive already mounted at /content/drive; to attempt to forcibly remount, call drive.mount(\"/content/drive\", force_remount=True).\n"
          ]
        },
        {
          "data": {
            "application/vnd.jupyter.widget-view+json": {
              "model_id": "b50f9c531733496c930f8fc483fc1117",
              "version_major": 2,
              "version_minor": 0
            },
            "text/plain": [
              "FileUpload(value={}, accept='image/*', description='Upload')"
            ]
          },
          "metadata": {},
          "output_type": "display_data"
        }
      ],
      "source": [
        "# Mount Google Drive\n",
        "from google.colab import drive\n",
        "drive.mount('/content/drive')\n",
        "\n",
        "# Import necessary libraries\n",
        "from tensorflow.keras.preprocessing.image import load_img, img_to_array\n",
        "from tensorflow.keras.models import load_model\n",
        "import numpy as np\n",
        "import matplotlib.pyplot as plt\n",
        "from PIL import Image\n",
        "import io\n",
        "import ipywidgets as widgets\n",
        "\n",
        "# Memuat model yang telah disimpan pada proses training\n",
        "#model = load_model('/content/drive/MyDrive/daun_tomat.keras')\n",
        "\n",
        "# Fungsi untuk melakukan prediksi gambar\n",
        "def predict_image(model, img, class_labels):\n",
        "    img = img.resize((224, 224))  # Ubah ukuran sesuai model\n",
        "    img = img_to_array(img)\n",
        "    img = img / 255.0  # Normalisasi\n",
        "    img = np.expand_dims(img, axis=0)  # Tambahkan dimensi batch\n",
        "\n",
        "    # Melakukan prediksi\n",
        "    predictions = model.predict(img)\n",
        "    predicted_class_index = np.argmax(predictions)\n",
        "    predicted_class = class_labels[predicted_class_index]\n",
        "\n",
        "    return predicted_class\n",
        "\n",
        "# Daftar nama kelas\n",
        "class_labels = ['Bacterial Spot', 'Leaf Mold', 'Tomato Mosaic Virus', 'Healthy']\n",
        "\n",
        "# Membuat widget unggahan file\n",
        "upload = widgets.FileUpload(accept='image/*', multiple=False)\n",
        "\n",
        "# Fungsi untuk menangani unggahan file dan prediksi\n",
        "def on_upload_change(change):\n",
        "    for name, file_info in upload.value.items():\n",
        "        image = Image.open(io.BytesIO(file_info['content']))\n",
        "        plt.imshow(image)\n",
        "        plt.axis('off')\n",
        "        plt.show()\n",
        "\n",
        "        predicted_class = predict_image(model, image, class_labels)\n",
        "        print(\"Gambar ini diprediksi sebagai:\", predicted_class)\n",
        "\n",
        "# Memicu fungsi saat ada perubahan pada unggahan\n",
        "upload.observe(on_upload_change, names='value')\n",
        "\n",
        "# Menampilkan widget unggahan\n",
        "display(upload)\n"
      ]
    }
  ],
  "metadata": {
    "colab": {
      "provenance": []
    },
    "kernelspec": {
      "display_name": "Python 3",
      "name": "python3"
    },
    "language_info": {
      "name": "python"
    },
    "widgets": {
      "application/vnd.jupyter.widget-state+json": {
        "072199657ddb461d994f8ebeba6f5ae2": {
          "model_module": "@jupyter-widgets/controls",
          "model_module_version": "1.5.0",
          "model_name": "ButtonStyleModel",
          "state": {
            "_model_module": "@jupyter-widgets/controls",
            "_model_module_version": "1.5.0",
            "_model_name": "ButtonStyleModel",
            "_view_count": null,
            "_view_module": "@jupyter-widgets/base",
            "_view_module_version": "1.2.0",
            "_view_name": "StyleView",
            "button_color": null,
            "font_weight": ""
          }
        },
        "b50f9c531733496c930f8fc483fc1117": {
          "model_module": "@jupyter-widgets/controls",
          "model_module_version": "1.5.0",
          "model_name": "FileUploadModel",
          "state": {
            "_counter": 0,
            "_dom_classes": [],
            "_model_module": "@jupyter-widgets/controls",
            "_model_module_version": "1.5.0",
            "_model_name": "FileUploadModel",
            "_view_count": null,
            "_view_module": "@jupyter-widgets/controls",
            "_view_module_version": "1.5.0",
            "_view_name": "FileUploadView",
            "accept": "image/*",
            "button_style": "",
            "data": [],
            "description": "Upload",
            "description_tooltip": null,
            "disabled": false,
            "error": "",
            "icon": "upload",
            "layout": "IPY_MODEL_e59fd72625e643e4ab1707a2e1e7e8ae",
            "metadata": [],
            "multiple": false,
            "style": "IPY_MODEL_072199657ddb461d994f8ebeba6f5ae2"
          }
        },
        "e59fd72625e643e4ab1707a2e1e7e8ae": {
          "model_module": "@jupyter-widgets/base",
          "model_module_version": "1.2.0",
          "model_name": "LayoutModel",
          "state": {
            "_model_module": "@jupyter-widgets/base",
            "_model_module_version": "1.2.0",
            "_model_name": "LayoutModel",
            "_view_count": null,
            "_view_module": "@jupyter-widgets/base",
            "_view_module_version": "1.2.0",
            "_view_name": "LayoutView",
            "align_content": null,
            "align_items": null,
            "align_self": null,
            "border": null,
            "bottom": null,
            "display": null,
            "flex": null,
            "flex_flow": null,
            "grid_area": null,
            "grid_auto_columns": null,
            "grid_auto_flow": null,
            "grid_auto_rows": null,
            "grid_column": null,
            "grid_gap": null,
            "grid_row": null,
            "grid_template_areas": null,
            "grid_template_columns": null,
            "grid_template_rows": null,
            "height": null,
            "justify_content": null,
            "justify_items": null,
            "left": null,
            "margin": null,
            "max_height": null,
            "max_width": null,
            "min_height": null,
            "min_width": null,
            "object_fit": null,
            "object_position": null,
            "order": null,
            "overflow": null,
            "overflow_x": null,
            "overflow_y": null,
            "padding": null,
            "right": null,
            "top": null,
            "visibility": null,
            "width": null
          }
        }
      }
    }
  },
  "nbformat": 4,
  "nbformat_minor": 0
}